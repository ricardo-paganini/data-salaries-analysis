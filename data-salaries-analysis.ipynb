{
 "cells": [
  {
   "cell_type": "markdown",
   "id": "864d43eb-ee0e-42f5-8ef8-0816d6b8501a",
   "metadata": {},
   "source": [
    "# **Análise Exploratória de Salários em Carreiras de Dados**"
   ]
  },
  {
   "cell_type": "markdown",
   "id": "db3f97a3-4d92-474c-a90a-44acf2587f7b",
   "metadata": {},
   "source": [
    "## **Funções e bibliotecas necessárias para o projeto**"
   ]
  },
  {
   "cell_type": "code",
   "execution_count": 15,
   "id": "7891a7da-5800-4edb-a6ae-3be7044c48ea",
   "metadata": {},
   "outputs": [],
   "source": [
    "import pandas as pd\n",
    "import matplotlib.pyplot as plt\n",
    "import seaborn as sns\n",
    "from cycler import cycler"
   ]
  },
  {
   "cell_type": "markdown",
   "id": "ea17bfc8-da11-43ee-a86a-d7f97b16ea53",
   "metadata": {},
   "source": [
    "## **Iniciando o projeto utilizando a metodologia CRISP-DM**\n",
    "\n",
    "### **1.0 - Entendimento do Negócio**\n",
    "\n",
    "#### **Contextualização**\n",
    "\n",
    "Nos últimos anos, a área de Ciência de Dados cresceu de forma acelerada, se tornando uma das mais promissoras no mercado de tecnologia. Profissionais como Data Analysts e Data Scientists passaram a ser cada vez mais valorizados, mas ainda existe muita dúvida sobre como os salários variam entre cargos, níveis de experiência e localização.\n",
    "\n",
    "Este projeto tem como objetivo realizar uma Análise Exploratória de Dados (EDA) sobre salários de profissionais da área de dados, utilizando um dataset público do Kaggle. A análise busca responder perguntas como:\n",
    "\n",
    "1- Qual a distribuição de salários em dólar para profissionais de dados?\n",
    "\n",
    "2- Como variam os salários entre Data Analysts e Data Scientists?\n",
    "\n",
    "3- Qual o impacto do nível de experiência (junior, pleno, sênior, executivo) na remuneração?\n",
    "\n",
    "4- Há diferenças significativas dependendo da localização da empresa?\n",
    "\n",
    "#### **Objetivo**\n",
    "\n",
    "Além de explorar o dataset, este projeto também tem como propósito:\n",
    "\n",
    "1- Exercitar técnicas de manipulação de dados com Pandas.\n",
    "\n",
    "2- Criar visualizações claras com Matplotlib e Seaborn.\n",
    "\n",
    "3- Extrair insights relevantes que podem ser úteis para quem deseja ingressar ou crescer na área de dados.\n"
   ]
  },
  {
   "cell_type": "markdown",
   "id": "22d0e02b-dd6c-44c1-8740-4fe3732ce76b",
   "metadata": {},
   "source": [
    "### **2.0 - Entendimento dos Dados**\n",
    "\n",
    "#### **Sobre os Dados**\n",
    "\n",
    "Downlaod realizado em [Kaggle](https://www.kaggle.com/datasets/hummaamqaasim/jobs-in-data?resource=download)\n",
    "\n",
    "#### **Descrição das Colunas**\n",
    "\n",
    "**work_year**\n",
    "\n",
    "    Ano em que o salário ou a vaga foi registrado.\n",
    "\n",
    "    Exemplo: 2023.\n",
    "\n",
    "    Permite análise de evolução salarial ou tendências do mercado ao longo dos anos.\n",
    "\n",
    "**job_title**\n",
    "\n",
    "    Nome do cargo.\n",
    "\n",
    "    Exemplo: Data Scientist, Data Engineer, Data Architect.\n",
    "\n",
    "    Mostra a variedade de posições no mercado de dados.\n",
    "\n",
    "**job_category**\n",
    "\n",
    "    Agrupamento das funções em categorias mais amplas.\n",
    "\n",
    "    Exemplo: Data Science and Research, Data Engineering, Data Architecture and Modeling.\n",
    "\n",
    "    Facilita identificar áreas mais bem pagas ou mais demandadas.\n",
    "\n",
    "**salary_currency**\n",
    "\n",
    "    Moeda em que o salário foi reportado.\n",
    "\n",
    "    Exemplo: USD, EUR, GBP.\n",
    "\n",
    "**salary**\n",
    "\n",
    "    Valor do salário na moeda original reportada.\n",
    "\n",
    "**salary_in_usd**\n",
    "\n",
    "    Valor convertido para dólares americanos (USD).\n",
    "\n",
    "    Permite comparações diretas entre países.\n",
    "\n",
    "**employee_residence**\n",
    "\n",
    "    País de residência do empregado.\n",
    "\n",
    "    Exemplo: Germany, United States, Brazil.\n",
    "\n",
    "    Útil para comparar salários por país de residência.\n",
    "\n",
    "**experience_level**\n",
    "\n",
    "    Nível de experiência do profissional.\n",
    "\n",
    "    Exemplo: Entry-level, Mid-level, Senior, Executive.\n",
    "\n",
    "    Permite avaliar a progressão salarial conforme experiência.\n",
    "\n",
    "**employment_type**\n",
    "\n",
    "    Tipo de contrato.\n",
    "\n",
    "    Exemplo: Full-time, Part-time, Contract, Freelance.\n",
    "\n",
    "    Mostra a estrutura de contratação no mercado.\n",
    "\n",
    "**work_setting**\n",
    "\n",
    "    Modelo de trabalho.\n",
    "\n",
    "    Exemplo: Remote, Hybrid, In-person.\n",
    "\n",
    "    Permite avaliar se o trabalho remoto impacta salários.\n",
    "\n",
    "**company_location**\n",
    "\n",
    "    Localização da empresa (país).\n",
    "\n",
    "    Exemplo: United States, Germany, India.\n",
    "\n",
    "    Pode diferir do país de residência do empregado.\n",
    "\n",
    "**company_size**\n",
    "\n",
    "    Tamanho da empresa:\n",
    "\n",
    "        S = Pequena (até 50 funcionários)\n",
    "\n",
    "        M = Média (51 a 250 funcionários)\n",
    "\n",
    "        L = Grande (mais de 250 funcionários)\n",
    "\n",
    "    Útil para entender diferenças salariais entre empresas de portes distintos.\n",
    "\n",
    "OBS.: Dataset robusto, com **9.355 registros** de vagas/salários na área de dados, abrangendo diferentes anos, cargos, países, níveis de experiência e tipos de trabalho."
   ]
  },
  {
   "cell_type": "markdown",
   "id": "3cf95271-3d51-4eb1-a01d-d1793a09f220",
   "metadata": {},
   "source": [
    "#### **Coletando os dados**"
   ]
  },
  {
   "cell_type": "code",
   "execution_count": 2,
   "id": "08b140fd-cc33-475f-baaa-475859aea7c8",
   "metadata": {},
   "outputs": [],
   "source": [
    "df = pd.read_csv(r'data\\jobs_in_data.csv', sep=',')"
   ]
  },
  {
   "cell_type": "code",
   "execution_count": 3,
   "id": "857924bf-d179-4c74-9859-5b2ecdcbf476",
   "metadata": {},
   "outputs": [
    {
     "data": {
      "text/html": [
       "<div>\n",
       "<style scoped>\n",
       "    .dataframe tbody tr th:only-of-type {\n",
       "        vertical-align: middle;\n",
       "    }\n",
       "\n",
       "    .dataframe tbody tr th {\n",
       "        vertical-align: top;\n",
       "    }\n",
       "\n",
       "    .dataframe thead th {\n",
       "        text-align: right;\n",
       "    }\n",
       "</style>\n",
       "<table border=\"1\" class=\"dataframe\">\n",
       "  <thead>\n",
       "    <tr style=\"text-align: right;\">\n",
       "      <th></th>\n",
       "      <th>work_year</th>\n",
       "      <th>job_title</th>\n",
       "      <th>job_category</th>\n",
       "      <th>salary_currency</th>\n",
       "      <th>salary</th>\n",
       "      <th>salary_in_usd</th>\n",
       "      <th>employee_residence</th>\n",
       "      <th>experience_level</th>\n",
       "      <th>employment_type</th>\n",
       "      <th>work_setting</th>\n",
       "      <th>company_location</th>\n",
       "      <th>company_size</th>\n",
       "    </tr>\n",
       "  </thead>\n",
       "  <tbody>\n",
       "    <tr>\n",
       "      <th>0</th>\n",
       "      <td>2023</td>\n",
       "      <td>Data DevOps Engineer</td>\n",
       "      <td>Data Engineering</td>\n",
       "      <td>EUR</td>\n",
       "      <td>88000</td>\n",
       "      <td>95012</td>\n",
       "      <td>Germany</td>\n",
       "      <td>Mid-level</td>\n",
       "      <td>Full-time</td>\n",
       "      <td>Hybrid</td>\n",
       "      <td>Germany</td>\n",
       "      <td>L</td>\n",
       "    </tr>\n",
       "    <tr>\n",
       "      <th>1</th>\n",
       "      <td>2023</td>\n",
       "      <td>Data Architect</td>\n",
       "      <td>Data Architecture and Modeling</td>\n",
       "      <td>USD</td>\n",
       "      <td>186000</td>\n",
       "      <td>186000</td>\n",
       "      <td>United States</td>\n",
       "      <td>Senior</td>\n",
       "      <td>Full-time</td>\n",
       "      <td>In-person</td>\n",
       "      <td>United States</td>\n",
       "      <td>M</td>\n",
       "    </tr>\n",
       "    <tr>\n",
       "      <th>2</th>\n",
       "      <td>2023</td>\n",
       "      <td>Data Architect</td>\n",
       "      <td>Data Architecture and Modeling</td>\n",
       "      <td>USD</td>\n",
       "      <td>81800</td>\n",
       "      <td>81800</td>\n",
       "      <td>United States</td>\n",
       "      <td>Senior</td>\n",
       "      <td>Full-time</td>\n",
       "      <td>In-person</td>\n",
       "      <td>United States</td>\n",
       "      <td>M</td>\n",
       "    </tr>\n",
       "    <tr>\n",
       "      <th>3</th>\n",
       "      <td>2023</td>\n",
       "      <td>Data Scientist</td>\n",
       "      <td>Data Science and Research</td>\n",
       "      <td>USD</td>\n",
       "      <td>212000</td>\n",
       "      <td>212000</td>\n",
       "      <td>United States</td>\n",
       "      <td>Senior</td>\n",
       "      <td>Full-time</td>\n",
       "      <td>In-person</td>\n",
       "      <td>United States</td>\n",
       "      <td>M</td>\n",
       "    </tr>\n",
       "    <tr>\n",
       "      <th>4</th>\n",
       "      <td>2023</td>\n",
       "      <td>Data Scientist</td>\n",
       "      <td>Data Science and Research</td>\n",
       "      <td>USD</td>\n",
       "      <td>93300</td>\n",
       "      <td>93300</td>\n",
       "      <td>United States</td>\n",
       "      <td>Senior</td>\n",
       "      <td>Full-time</td>\n",
       "      <td>In-person</td>\n",
       "      <td>United States</td>\n",
       "      <td>M</td>\n",
       "    </tr>\n",
       "  </tbody>\n",
       "</table>\n",
       "</div>"
      ],
      "text/plain": [
       "   work_year             job_title                    job_category  \\\n",
       "0       2023  Data DevOps Engineer                Data Engineering   \n",
       "1       2023        Data Architect  Data Architecture and Modeling   \n",
       "2       2023        Data Architect  Data Architecture and Modeling   \n",
       "3       2023        Data Scientist       Data Science and Research   \n",
       "4       2023        Data Scientist       Data Science and Research   \n",
       "\n",
       "  salary_currency  salary  salary_in_usd employee_residence experience_level  \\\n",
       "0             EUR   88000          95012            Germany        Mid-level   \n",
       "1             USD  186000         186000      United States           Senior   \n",
       "2             USD   81800          81800      United States           Senior   \n",
       "3             USD  212000         212000      United States           Senior   \n",
       "4             USD   93300          93300      United States           Senior   \n",
       "\n",
       "  employment_type work_setting company_location company_size  \n",
       "0       Full-time       Hybrid          Germany            L  \n",
       "1       Full-time    In-person    United States            M  \n",
       "2       Full-time    In-person    United States            M  \n",
       "3       Full-time    In-person    United States            M  \n",
       "4       Full-time    In-person    United States            M  "
      ]
     },
     "execution_count": 3,
     "metadata": {},
     "output_type": "execute_result"
    }
   ],
   "source": [
    "df.head()"
   ]
  },
  {
   "cell_type": "code",
   "execution_count": 4,
   "id": "4e732443-701c-4a3a-abae-e6a330f59ea3",
   "metadata": {},
   "outputs": [
    {
     "name": "stdout",
     "output_type": "stream",
     "text": [
      "<class 'pandas.core.frame.DataFrame'>\n",
      "RangeIndex: 9355 entries, 0 to 9354\n",
      "Data columns (total 12 columns):\n",
      " #   Column              Non-Null Count  Dtype \n",
      "---  ------              --------------  ----- \n",
      " 0   work_year           9355 non-null   int64 \n",
      " 1   job_title           9355 non-null   object\n",
      " 2   job_category        9355 non-null   object\n",
      " 3   salary_currency     9355 non-null   object\n",
      " 4   salary              9355 non-null   int64 \n",
      " 5   salary_in_usd       9355 non-null   int64 \n",
      " 6   employee_residence  9355 non-null   object\n",
      " 7   experience_level    9355 non-null   object\n",
      " 8   employment_type     9355 non-null   object\n",
      " 9   work_setting        9355 non-null   object\n",
      " 10  company_location    9355 non-null   object\n",
      " 11  company_size        9355 non-null   object\n",
      "dtypes: int64(3), object(9)\n",
      "memory usage: 877.2+ KB\n"
     ]
    }
   ],
   "source": [
    "df.info()"
   ]
  },
  {
   "cell_type": "code",
   "execution_count": 5,
   "id": "e0d35e22-94c4-45e3-bdba-3c9cba501f21",
   "metadata": {},
   "outputs": [
    {
     "name": "stdout",
     "output_type": "stream",
     "text": [
      "42.91% do Dataframe possui registros duplicados\n"
     ]
    }
   ],
   "source": [
    "print(f\"{df.duplicated().sum() / df['work_year'].count():.2%} do Dataframe possui registros duplicados\")"
   ]
  },
  {
   "cell_type": "markdown",
   "id": "3475b64b-b4b6-41d2-a956-a8d8a1d3b8d2",
   "metadata": {},
   "source": [
    "**Diagnóstico de qualidade dos dados**\n",
    "\n",
    "    Não há valores ausentes ou nulos.\n",
    "\n",
    "    Existem duplicados (≈43%), mas decidi mantê-los pois é perfeitamente possível termos mesmos valores para indivíduos diferentes neste cenário.\n",
    "\n",
    "    'salary_in_usd' será a métrica principal."
   ]
  },
  {
   "cell_type": "markdown",
   "id": "f5f649a6-7392-44de-9562-ebb7edd1c211",
   "metadata": {},
   "source": [
    "**Resumo estatístico das variáveis (numéricas e categóricas)**"
   ]
  },
  {
   "cell_type": "code",
   "execution_count": 6,
   "id": "95b6a338-58f8-4536-b29a-3e97fc8b79dc",
   "metadata": {},
   "outputs": [
    {
     "data": {
      "text/html": [
       "<div>\n",
       "<style scoped>\n",
       "    .dataframe tbody tr th:only-of-type {\n",
       "        vertical-align: middle;\n",
       "    }\n",
       "\n",
       "    .dataframe tbody tr th {\n",
       "        vertical-align: top;\n",
       "    }\n",
       "\n",
       "    .dataframe thead th {\n",
       "        text-align: right;\n",
       "    }\n",
       "</style>\n",
       "<table border=\"1\" class=\"dataframe\">\n",
       "  <thead>\n",
       "    <tr style=\"text-align: right;\">\n",
       "      <th></th>\n",
       "      <th>count</th>\n",
       "      <th>mean</th>\n",
       "      <th>std</th>\n",
       "      <th>min</th>\n",
       "      <th>25%</th>\n",
       "      <th>50%</th>\n",
       "      <th>75%</th>\n",
       "      <th>max</th>\n",
       "    </tr>\n",
       "  </thead>\n",
       "  <tbody>\n",
       "    <tr>\n",
       "      <th>work_year</th>\n",
       "      <td>9355.0</td>\n",
       "      <td>2022.760449</td>\n",
       "      <td>0.519470</td>\n",
       "      <td>2020.0</td>\n",
       "      <td>2023.0</td>\n",
       "      <td>2023.0</td>\n",
       "      <td>2023.0</td>\n",
       "      <td>2023.0</td>\n",
       "    </tr>\n",
       "    <tr>\n",
       "      <th>salary</th>\n",
       "      <td>9355.0</td>\n",
       "      <td>149927.981293</td>\n",
       "      <td>63608.835387</td>\n",
       "      <td>14000.0</td>\n",
       "      <td>105200.0</td>\n",
       "      <td>143860.0</td>\n",
       "      <td>187000.0</td>\n",
       "      <td>450000.0</td>\n",
       "    </tr>\n",
       "    <tr>\n",
       "      <th>salary_in_usd</th>\n",
       "      <td>9355.0</td>\n",
       "      <td>150299.495564</td>\n",
       "      <td>63177.372024</td>\n",
       "      <td>15000.0</td>\n",
       "      <td>105700.0</td>\n",
       "      <td>143000.0</td>\n",
       "      <td>186723.0</td>\n",
       "      <td>450000.0</td>\n",
       "    </tr>\n",
       "  </tbody>\n",
       "</table>\n",
       "</div>"
      ],
      "text/plain": [
       "                count           mean           std      min       25%  \\\n",
       "work_year      9355.0    2022.760449      0.519470   2020.0    2023.0   \n",
       "salary         9355.0  149927.981293  63608.835387  14000.0  105200.0   \n",
       "salary_in_usd  9355.0  150299.495564  63177.372024  15000.0  105700.0   \n",
       "\n",
       "                    50%       75%       max  \n",
       "work_year        2023.0    2023.0    2023.0  \n",
       "salary         143860.0  187000.0  450000.0  \n",
       "salary_in_usd  143000.0  186723.0  450000.0  "
      ]
     },
     "metadata": {},
     "output_type": "display_data"
    },
    {
     "data": {
      "text/html": [
       "<div>\n",
       "<style scoped>\n",
       "    .dataframe tbody tr th:only-of-type {\n",
       "        vertical-align: middle;\n",
       "    }\n",
       "\n",
       "    .dataframe tbody tr th {\n",
       "        vertical-align: top;\n",
       "    }\n",
       "\n",
       "    .dataframe thead th {\n",
       "        text-align: right;\n",
       "    }\n",
       "</style>\n",
       "<table border=\"1\" class=\"dataframe\">\n",
       "  <thead>\n",
       "    <tr style=\"text-align: right;\">\n",
       "      <th></th>\n",
       "      <th>job_title</th>\n",
       "      <th>job_category</th>\n",
       "      <th>salary_currency</th>\n",
       "      <th>employee_residence</th>\n",
       "      <th>experience_level</th>\n",
       "      <th>employment_type</th>\n",
       "      <th>work_setting</th>\n",
       "      <th>company_location</th>\n",
       "      <th>company_size</th>\n",
       "    </tr>\n",
       "  </thead>\n",
       "  <tbody>\n",
       "    <tr>\n",
       "      <th>count</th>\n",
       "      <td>9355</td>\n",
       "      <td>9355</td>\n",
       "      <td>9355</td>\n",
       "      <td>9355</td>\n",
       "      <td>9355</td>\n",
       "      <td>9355</td>\n",
       "      <td>9355</td>\n",
       "      <td>9355</td>\n",
       "      <td>9355</td>\n",
       "    </tr>\n",
       "    <tr>\n",
       "      <th>unique</th>\n",
       "      <td>125</td>\n",
       "      <td>10</td>\n",
       "      <td>11</td>\n",
       "      <td>83</td>\n",
       "      <td>4</td>\n",
       "      <td>4</td>\n",
       "      <td>3</td>\n",
       "      <td>70</td>\n",
       "      <td>3</td>\n",
       "    </tr>\n",
       "    <tr>\n",
       "      <th>top</th>\n",
       "      <td>Data Engineer</td>\n",
       "      <td>Data Science and Research</td>\n",
       "      <td>USD</td>\n",
       "      <td>United States</td>\n",
       "      <td>Senior</td>\n",
       "      <td>Full-time</td>\n",
       "      <td>In-person</td>\n",
       "      <td>United States</td>\n",
       "      <td>M</td>\n",
       "    </tr>\n",
       "    <tr>\n",
       "      <th>freq</th>\n",
       "      <td>2195</td>\n",
       "      <td>3014</td>\n",
       "      <td>8591</td>\n",
       "      <td>8086</td>\n",
       "      <td>6709</td>\n",
       "      <td>9310</td>\n",
       "      <td>5730</td>\n",
       "      <td>8132</td>\n",
       "      <td>8448</td>\n",
       "    </tr>\n",
       "  </tbody>\n",
       "</table>\n",
       "</div>"
      ],
      "text/plain": [
       "            job_title               job_category salary_currency  \\\n",
       "count            9355                       9355            9355   \n",
       "unique            125                         10              11   \n",
       "top     Data Engineer  Data Science and Research             USD   \n",
       "freq             2195                       3014            8591   \n",
       "\n",
       "       employee_residence experience_level employment_type work_setting  \\\n",
       "count                9355             9355            9355         9355   \n",
       "unique                 83                4               4            3   \n",
       "top         United States           Senior       Full-time    In-person   \n",
       "freq                 8086             6709            9310         5730   \n",
       "\n",
       "       company_location company_size  \n",
       "count              9355         9355  \n",
       "unique               70            3  \n",
       "top       United States            M  \n",
       "freq               8132         8448  "
      ]
     },
     "metadata": {},
     "output_type": "display_data"
    }
   ],
   "source": [
    "# Variáveis numéricas\n",
    "display(df.describe().T)\n",
    "        \n",
    "# Variáveis categóricas\n",
    "display(df.describe(include=['object']))"
   ]
  },
  {
   "cell_type": "markdown",
   "id": "3badad6d-9fc4-4258-8106-ccf76c655833",
   "metadata": {},
   "source": [
    "**Distribuição das variáveis categóricas principais**"
   ]
  },
  {
   "cell_type": "code",
   "execution_count": 7,
   "id": "629cca67-d309-4ef5-8f5f-126182df016d",
   "metadata": {},
   "outputs": [
    {
     "name": "stdout",
     "output_type": "stream",
     "text": [
      "---\n",
      "experience_level\n",
      "Senior         6709\n",
      "Mid-level      1869\n",
      "Entry-level     496\n",
      "Executive       281\n",
      "Name: count, dtype: int64\n",
      "---\n",
      "employment_type\n",
      "Full-time    9310\n",
      "Contract       19\n",
      "Part-time      15\n",
      "Freelance      11\n",
      "Name: count, dtype: int64\n",
      "---\n",
      "work_setting\n",
      "In-person    5730\n",
      "Remote       3434\n",
      "Hybrid        191\n",
      "Name: count, dtype: int64\n",
      "---\n",
      "company_size\n",
      "M    8448\n",
      "L     748\n",
      "S     159\n",
      "Name: count, dtype: int64\n"
     ]
    }
   ],
   "source": [
    "for col in ['experience_level', 'employment_type', 'work_setting', 'company_size']:\n",
    "    print('---')\n",
    "    print(df[col].value_counts())"
   ]
  },
  {
   "cell_type": "markdown",
   "id": "fe21687f-68d1-4719-9f70-958efe103b43",
   "metadata": {},
   "source": [
    "**Visualizações gráficas básicas**"
   ]
  },
  {
   "cell_type": "code",
   "execution_count": 30,
   "id": "eae8cbdc-d234-4c0f-a59e-bd0b94cc0a4b",
   "metadata": {},
   "outputs": [
    {
     "data": {
      "image/png": "[encoded data removed]",
      "text/plain": [
       "<Figure size 1000x500 with 1 Axes>"
      ]
     },
     "metadata": {},
     "output_type": "display_data"
    }
   ],
   "source": [
    "# Histograma do salário em USD\n",
    "## Definindo as cotes do gráfico\n",
    "cores = plt.get_cmap('Pastel2').colors\n",
    "ciclo_cores = cycler('color', cores)\n",
    "plt.rc('axes', prop_cycle=ciclo_cores)\n",
    "\n",
    "plt.figure(figsize=(10,5))\n",
    "sns.histplot(df[\"salary_in_usd\"], bins=30, kde=True)\n",
    "plt.title(\"Distribuição dos Salários (USD)\",fontsize=10,loc='left',pad=30, fontweight='bold')\n",
    "plt.xlabel(\"Salário em USD\", labelpad=15, fontsize=9, fontweight='semibold')\n",
    "plt.ylabel(\"Frequência\", labelpad=15, fontsize=9, fontweight='semibold')\n",
    "plt.box(False)\n",
    "plt.grid(True)\n",
    "plt.tick_params(axis='both', length=0)\n",
    "plt.show()"
   ]
  },
  {
   "cell_type": "markdown",
   "id": "b2ae8481-1f11-4754-90ce-c7a01bb8e5ba",
   "metadata": {},
   "source": [
    "**1. Distribuição dos Salários (Histograma + KDE)**\n",
    "\n",
    "O que vemos: \n",
    "\n",
    "    A maioria dos salários se concentra em uma faixa mais baixa a média, enquanto poucos salários aparecem nas faixas muito altas.\n",
    "\n",
    "Interpretação:\n",
    "\n",
    "    A distribuição é assimétrica à direita (right-skewed) → muitos profissionais ganham valores medianos, mas há outliers com salários bem elevados.\n",
    "\n",
    "    Esse comportamento é comum em remunerações onde poucos executivos ou especialistas recebem salários muito acima da média."
   ]
  },
  {
   "cell_type": "code",
   "execution_count": 31,
   "id": "c5bdf049-971c-4c50-8e46-2b89d717b534",
   "metadata": {},
   "outputs": [
    {
     "data": {
      "image/png": "[encoded data removed]",
      "text/plain": [
       "<Figure size 1000x500 with 1 Axes>"
      ]
     },
     "metadata": {},
     "output_type": "display_data"
    }
   ],
   "source": [
    "# Boxplot para detectar outliers de salário\n",
    "plt.figure(figsize=(10,5))\n",
    "sns.boxplot(x=df[\"salary_in_usd\"])\n",
    "plt.title(\"Boxplot - Salários em USD\", loc='left', fontsize=10, fontweight='bold')\n",
    "plt.xlabel(\"Salário em USD\", labelpad=15, fontsize=9, fontweight='semibold')\n",
    "plt.box(False)\n",
    "plt.tick_params(axis='both', length=0)\n",
    "plt.show()"
   ]
  },
  {
   "cell_type": "markdown",
   "id": "5101d8f9-2d73-47ff-8889-7007bc2c1cbd",
   "metadata": {},
   "source": [
    "**2. Boxplot dos Salários**\n",
    "\n",
    "O que vemos: \n",
    "\n",
    "    A mediana está em uma faixa mais baixa, com grande concentração até o 3º quartil, e diversos outliers acima.\n",
    "\n",
    "Interpretação:\n",
    "\n",
    "    Os outliers não devem ser ignorados, pois podem representar posições de liderança (executives) ou oportunidades em mercados de alta remuneração.\n",
    "\n",
    "    Confirma a dispersão salarial e a diferença significativa entre cargos de entrada e cargos avançados."
   ]
  },
  {
   "cell_type": "code",
   "execution_count": 80,
   "id": "4d67242a-5c8a-4ae8-aed1-be8c4f58c255",
   "metadata": {},
   "outputs": [
    {
     "data": {
      "image/png": "[encoded data removed]",
      "text/plain": [
       "<Figure size 800x500 with 1 Axes>"
      ]
     },
     "metadata": {},
     "output_type": "display_data"
    }
   ],
   "source": [
    "# Contagem por nível de experiência\n",
    "plt.figure(figsize=(8,5))\n",
    "box = sns.countplot(data=df, x=\"experience_level\", order=df[\"experience_level\"].value_counts().index)\n",
    "\n",
    "for p in box.patches:\n",
    "    box.annotate(\n",
    "        f'{int(p.get_height()):,}'.replace(\",\", \".\"),                # valor da contagem\n",
    "        (p.get_x() + p.get_width() / 2, p.get_height()), # posição centralizada\n",
    "        ha='center', va='bottom', fontsize=9, fontweight='semibold',\n",
    "    )\n",
    "    \n",
    "plt.title(\"Distribuição por Nível de Experiência\", pad=30,loc='left',fontsize=10, fontweight='bold')\n",
    "plt.xlabel(\"Nível de Experiência\",labelpad=15, fontsize=9, fontweight='semibold')\n",
    "plt.ylabel(\"Contagem\", labelpad=15, fontsize=9, fontweight='semibold')\n",
    "plt.tick_params(axis='both', length=0)\n",
    "plt.box(False)\n",
    "plt.yticks([])\n",
    "plt.show()"
   ]
  },
  {
   "cell_type": "markdown",
   "id": "161d3c91-09c2-42f5-8857-0210298d3a01",
   "metadata": {},
   "source": [
    "**3. Distribuição por Nível de Experiência**\n",
    "\n",
    "O que vemos: \n",
    "\n",
    "    A maior parte dos registros corresponde a profissionais de nível médio ou sênior, enquanto executivos e juniores aparecem em menor número.\n",
    "\n",
    "Interpretação:\n",
    "\n",
    "    Isso pode indicar que o mercado de Data Science já está maduro, com maior demanda por profissionais experientes.\n",
    "\n",
    "    Também pode ser um viés do dataset: empresas podem contratar mais sêniores porque precisam de entregas de maior complexidade."
   ]
  },
  {
   "cell_type": "code",
   "execution_count": 79,
   "id": "204748a4-4e5b-47ea-986a-d322cb832649",
   "metadata": {},
   "outputs": [
    {
     "data": {
      "image/png": "[encoded data removed]",
      "text/plain": [
       "<Figure size 800x500 with 1 Axes>"
      ]
     },
     "metadata": {},
     "output_type": "display_data"
    }
   ],
   "source": [
    "# Contagem por tipo de emprego\n",
    "plt.figure(figsize=(8,5))\n",
    "box = sns.countplot(data=df, x=\"employment_type\", order=df[\"employment_type\"].value_counts().index)\n",
    "\n",
    "for p in box.patches:\n",
    "    box.annotate(\n",
    "        f'{int(p.get_height()):,}'.replace(\",\", \".\"),                # valor da contagem\n",
    "        (p.get_x() + p.get_width() / 2, p.get_height()), # posição centralizada\n",
    "        ha='center', va='bottom', fontsize=9, fontweight='semibold')\n",
    "        \n",
    "plt.title(\"Distribuição por Tipo de Contrato\",pad=20, loc='left', fontsize=10, fontweight='bold')\n",
    "plt.xlabel(\"Tipo de Contrato\", labelpad=15, fontsize=9, fontweight='semibold')\n",
    "plt.ylabel(\"Contagem\", labelpad=15, fontsize=9, fontweight='semibold')\n",
    "plt.box(False)\n",
    "plt.tick_params(axis='both', length=0)\n",
    "plt.yticks([])\n",
    "plt.show()"
   ]
  },
  {
   "cell_type": "markdown",
   "id": "0421d951-06b4-451c-9b30-95418e3a2d39",
   "metadata": {},
   "source": [
    "**4. Distribuição por Tipo de Contrato**\n",
    "\n",
    "O que vemos: \n",
    "\n",
    "    Predominância de contratos full-time, seguidos de volumes pequenos de contratos part-time, temporários ou freelancers.\n",
    "\n",
    "Interpretação:\n",
    "\n",
    "    O setor de Data Science é visto como estratégico, e por isso as empresas preferem vínculos mais longos e estáveis.\n",
    "\n",
    "    Contratos flexíveis podem aparecer em startups ou consultorias, mas representam a minoria."
   ]
  },
  {
   "cell_type": "code",
   "execution_count": 77,
   "id": "b8f7a0a0-f12d-41fa-be75-7fc175124743",
   "metadata": {},
   "outputs": [
    {
     "data": {
      "image/png": "[encoded data removed]",
      "text/plain": [
       "<Figure size 800x500 with 1 Axes>"
      ]
     },
     "metadata": {},
     "output_type": "display_data"
    }
   ],
   "source": [
    "# Salário médio por nível de experiência\n",
    "plt.figure(figsize=(8,5))\n",
    "box = sns.barplot(data=df, x=\"experience_level\", y=\"salary_in_usd\", estimator=\"mean\", order=df[\"experience_level\"].value_counts().index)\n",
    "\n",
    "for p in box.patches:\n",
    "    box.annotate(\n",
    "        f'{int(p.get_height()):,}'.replace(\",\", \".\"),                # valor da contagem\n",
    "        (p.get_x() + p.get_width() / 2, p.get_height() / 2), # posição centralizada\n",
    "        ha='center', va='bottom', fontsize=9, fontweight='semibold')\n",
    "\n",
    "plt.title(\"Salário Médio por Nível de Experiência\", pad=30,fontsize=10,fontweight='bold', loc='left')\n",
    "plt.xlabel(\"Nível de Experiência\", labelpad=15, fontsize=9, fontweight='semibold')\n",
    "plt.ylabel(\"Salário Médio (USD)\", labelpad=15, fontsize=9, fontweight='semibold')\n",
    "plt.box(False)\n",
    "plt.tick_params(axis='both',length=0)\n",
    "plt.yticks([])\n",
    "plt.show()"
   ]
  },
  {
   "cell_type": "markdown",
   "id": "4ffe52a0-52d5-4da9-94b5-52f2faa051f1",
   "metadata": {},
   "source": [
    "**5. Salário Médio por Nível de Experiência**\n",
    "\n",
    "O que vemos:\n",
    "\n",
    "    A remuneração cresce conforme a senioridade aumenta → junior < mid < senior < executive.\n",
    "\n",
    "Interpretação:\n",
    "\n",
    "    Mostra uma progressão clara de carreira: quanto maior a experiência, maior o salário.\n",
    "\n",
    "    Essa progressão pode não ser linear: o salto entre senior e executive costuma ser muito maior do que entre junior e mid."
   ]
  },
  {
   "cell_type": "code",
   "execution_count": 76,
   "id": "5a0abcb6-42b3-4856-a960-c622e15db920",
   "metadata": {},
   "outputs": [
    {
     "data": {
      "image/png": "[encoded data removed]",
      "text/plain": [
       "<Figure size 800x500 with 1 Axes>"
      ]
     },
     "metadata": {},
     "output_type": "display_data"
    }
   ],
   "source": [
    "# Salário médio por regime de trabalho\n",
    "plt.figure(figsize=(8,5))\n",
    "box = sns.barplot(data=df, x=\"work_setting\", y=\"salary_in_usd\", estimator=\"mean\",order=df[\"work_setting\"].value_counts().index)\n",
    "\n",
    "for p in box.patches:\n",
    "    box.annotate(\n",
    "        f'{int(p.get_height()):,}'.replace(\",\", \".\"),\n",
    "        (p.get_x() + p.get_width() / 2, p.get_height() / 2), # posição centralizada\n",
    "        ha='center', va='bottom', fontsize=9, fontweight='semibold')\n",
    "\n",
    "plt.title(\"Salário Médio por Regime de Trabalho\", loc='left',fontsize=10, fontweight='bold', pad=20)\n",
    "plt.xlabel(\"Regime de Trabalho\", labelpad=20, fontsize=9, fontweight='semibold')\n",
    "plt.ylabel(\"Salário Médio (USD)\", labelpad=20, fontsize=9, fontweight='semibold')\n",
    "plt.box(False)\n",
    "plt.tick_params(axis='both',length=0)\n",
    "plt.yticks([])\n",
    "plt.show()"
   ]
  },
  {
   "cell_type": "markdown",
   "id": "07b99cf8-88a2-43e3-99c0-42bbc639ced7",
   "metadata": {},
   "source": [
    "**6. Salário Médio por Regime de Trabalho**\n",
    "\n",
    "O que vemos: \n",
    "\n",
    "    Geralmente os salários de trabalho remoto aparecem mais altos do que híbrido e presencial.\n",
    "\n",
    "Interpretação:\n",
    "\n",
    "    Isso pode indicar que profissionais remotos conseguem acessar oportunidades em outros países ou empresas globais, com salários mais competitivos.\n",
    "\n",
    "    Trabalhos presenciais tendem a estar atrelados ao mercado local, muitas vezes com salários menores."
   ]
  },
  {
   "cell_type": "markdown",
   "id": "8c008f69-6ec6-4aaa-989d-010f7981efc4",
   "metadata": {},
   "source": [
    "**Conclusão geral da análise inicial:**\n",
    "\n",
    "    O dataset mostra uma progressão natural de carreira, com salários maiores conforme aumenta a experiência.\n",
    "\n",
    "    Existe desigualdade salarial significativa, com outliers muito altos puxando a média.\n",
    "\n",
    "    O modelo de trabalho remoto tende a proporcionar salários mais elevados, refletindo a globalização do mercado de tecnologia.\n",
    "\n",
    "    O setor ainda é dominado por contratos full-time e por profissionais de nível médio/sênior."
   ]
  },
  {
   "cell_type": "markdown",
   "id": "c8c95c68-c97e-4bf4-8059-f136df6b8b9f",
   "metadata": {},
   "source": [
    "### **3.0 - Preparação dos Dados**"
   ]
  },
  {
   "cell_type": "code",
   "execution_count": 14,
   "id": "a71c9784-f463-4dd9-b662-dbb7bfafdc82",
   "metadata": {},
   "outputs": [
    {
     "name": "stdout",
     "output_type": "stream",
     "text": [
      "<class 'pandas.core.frame.DataFrame'>\n",
      "RangeIndex: 9355 entries, 0 to 9354\n",
      "Data columns (total 12 columns):\n",
      " #   Column              Non-Null Count  Dtype  \n",
      "---  ------              --------------  -----  \n",
      " 0   work_year           9355 non-null   int64  \n",
      " 1   job_title           9355 non-null   object \n",
      " 2   job_category        9355 non-null   object \n",
      " 3   salary_currency     9355 non-null   object \n",
      " 4   salary              9355 non-null   float64\n",
      " 5   salary_in_usd       9355 non-null   float64\n",
      " 6   employee_residence  9355 non-null   object \n",
      " 7   experience_level    9355 non-null   object \n",
      " 8   employment_type     9355 non-null   object \n",
      " 9   work_setting        9355 non-null   object \n",
      " 10  company_location    9355 non-null   object \n",
      " 11  company_size        9355 non-null   object \n",
      "dtypes: float64(2), int64(1), object(9)\n",
      "memory usage: 877.2+ KB\n"
     ]
    }
   ],
   "source": [
    "# Alterando o tipo de dado nas colunas: 'salary', 'salary_in_usd'\n",
    "df['salary'] = df['salary'].astype('float64')\n",
    "df['salary_in_usd'] = df['salary_in_usd'].astype('float64')\n",
    "\n",
    "df.info()"
   ]
  },
  {
   "cell_type": "code",
   "execution_count": null,
   "id": "d2c2b7a3-eed5-4776-80ad-d3d80868e209",
   "metadata": {},
   "outputs": [],
   "source": []
  }
 ],
 "metadata": {
  "kernelspec": {
   "display_name": "Python 3 (ipykernel)",
   "language": "python",
   "name": "python3"
  },
  "language_info": {
   "codemirror_mode": {
    "name": "ipython",
    "version": 3
   },
   "file_extension": ".py",
   "mimetype": "text/x-python",
   "name": "python",
   "nbconvert_exporter": "python",
   "pygments_lexer": "ipython3",
   "version": "3.13.5"
  }
 },
 "nbformat": 4,
 "nbformat_minor": 5
}
