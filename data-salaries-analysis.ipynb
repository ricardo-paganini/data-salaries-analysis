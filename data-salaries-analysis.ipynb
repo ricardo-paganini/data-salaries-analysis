{
 "cells": [
  {
   "cell_type": "markdown",
   "id": "864d43eb-ee0e-42f5-8ef8-0816d6b8501a",
   "metadata": {},
   "source": [
    "# **Análise Exploratória de Salários em Carreiras de Dados**\n",
    "\n",
    "## **Contextualização**\n",
    "\n",
    "Nos últimos anos, a área de Ciência de Dados cresceu de forma acelerada, se tornando uma das mais promissoras no mercado de tecnologia. Profissionais como Data Analysts e Data Scientists passaram a ser cada vez mais valorizados, mas ainda existe muita dúvida sobre como os salários variam entre cargos, níveis de experiência e localização.\n",
    "\n",
    "Este projeto tem como objetivo realizar uma Análise Exploratória de Dados (EDA) sobre salários de profissionais da área de dados, utilizando um dataset público do Kaggle. A análise busca responder perguntas como:\n",
    "\n",
    "1- Qual a distribuição de salários em dólar para profissionais de dados?\n",
    "\n",
    "2- Como variam os salários entre Data Analysts e Data Scientists?\n",
    "\n",
    "3- Qual o impacto do nível de experiência (junior, pleno, sênior, executivo) na remuneração?\n",
    "\n",
    "4- Há diferenças significativas dependendo da localização da empresa?\n",
    "\n",
    "## **Objetivo**\n",
    "\n",
    "Além de explorar o dataset, este projeto também tem como propósito:\n",
    "\n",
    "1- Exercitar técnicas de manipulação de dados com Pandas.\n",
    "\n",
    "2- Criar visualizações claras com Matplotlib e Seaborn.\n",
    "\n",
    "3- Extrair insights relevantes que podem ser úteis para quem deseja ingressar ou crescer na área de dados."
   ]
  },
  {
   "cell_type": "code",
   "execution_count": null,
   "id": "628734e3-b81d-4f4d-acc0-4b7481f1571e",
   "metadata": {},
   "outputs": [],
   "source": []
  }
 ],
 "metadata": {
  "kernelspec": {
   "display_name": "Python 3 (ipykernel)",
   "language": "python",
   "name": "python3"
  },
  "language_info": {
   "codemirror_mode": {
    "name": "ipython",
    "version": 3
   },
   "file_extension": ".py",
   "mimetype": "text/x-python",
   "name": "python",
   "nbconvert_exporter": "python",
   "pygments_lexer": "ipython3",
   "version": "3.13.5"
  }
 },
 "nbformat": 4,
 "nbformat_minor": 5
}
